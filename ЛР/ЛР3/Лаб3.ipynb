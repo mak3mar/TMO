{
 "cells": [
  {
   "cell_type": "markdown",
   "metadata": {},
   "source": [
    "### ЛР3"
   ]
  },
  {
   "cell_type": "code",
   "execution_count": 1,
   "metadata": {},
   "outputs": [],
   "source": [
    "import numpy as np\n",
    "import pandas as pd\n",
    "import seaborn as sns\n",
    "import matplotlib.pyplot as plt\n",
    "%matplotlib inline\n",
    "from sklearn.impute import SimpleImputer\n",
    "from sklearn.model_selection import train_test_split"
   ]
  },
  {
   "cell_type": "code",
   "execution_count": 2,
   "metadata": {},
   "outputs": [],
   "source": [
    "import numpy as np\n",
    "import pandas as pd\n",
    "from typing import Dict, Tuple\n",
    "from scipy import stats\n",
    "from sklearn.datasets import load_iris, load_boston\n",
    "from sklearn.model_selection import train_test_split\n",
    "from sklearn.neighbors import KNeighborsRegressor, KNeighborsClassifier\n",
    "from sklearn.metrics import accuracy_score, balanced_accuracy_score\n",
    "from sklearn.metrics import plot_confusion_matrix\n",
    "from sklearn.metrics import precision_score, recall_score, f1_score, classification_report\n",
    "from sklearn.metrics import confusion_matrix\n",
    "from sklearn.metrics import mean_absolute_error, mean_squared_error, mean_squared_log_error, median_absolute_error, r2_score \n",
    "from sklearn.metrics import roc_curve, roc_auc_score\n",
    "import seaborn as sns\n",
    "from sklearn.model_selection import learning_curve\n",
    "import matplotlib.pyplot as plt\n",
    "%matplotlib inline \n",
    "sns.set(style=\"ticks\")"
   ]
  },
  {
   "cell_type": "code",
   "execution_count": 3,
   "metadata": {},
   "outputs": [],
   "source": [
    "from sklearn.model_selection import KFold, RepeatedKFold, LeaveOneOut, LeavePOut, ShuffleSplit, StratifiedKFold"
   ]
  },
  {
   "cell_type": "code",
   "execution_count": 4,
   "metadata": {},
   "outputs": [],
   "source": [
    "from sklearn.model_selection import train_test_split"
   ]
  },
  {
   "cell_type": "code",
   "execution_count": 5,
   "metadata": {},
   "outputs": [],
   "source": [
    "# чтение обучающей выборки\n",
    "data = pd.read_csv('train.csv')"
   ]
  },
  {
   "cell_type": "code",
   "execution_count": 6,
   "metadata": {},
   "outputs": [
    {
     "data": {
      "text/html": [
       "<div>\n",
       "<style scoped>\n",
       "    .dataframe tbody tr th:only-of-type {\n",
       "        vertical-align: middle;\n",
       "    }\n",
       "\n",
       "    .dataframe tbody tr th {\n",
       "        vertical-align: top;\n",
       "    }\n",
       "\n",
       "    .dataframe thead th {\n",
       "        text-align: right;\n",
       "    }\n",
       "</style>\n",
       "<table border=\"1\" class=\"dataframe\">\n",
       "  <thead>\n",
       "    <tr style=\"text-align: right;\">\n",
       "      <th></th>\n",
       "      <th>PassengerId</th>\n",
       "      <th>Survived</th>\n",
       "      <th>Pclass</th>\n",
       "      <th>Name</th>\n",
       "      <th>Sex</th>\n",
       "      <th>Age</th>\n",
       "      <th>SibSp</th>\n",
       "      <th>Parch</th>\n",
       "      <th>Ticket</th>\n",
       "      <th>Fare</th>\n",
       "      <th>Cabin</th>\n",
       "      <th>Embarked</th>\n",
       "    </tr>\n",
       "  </thead>\n",
       "  <tbody>\n",
       "    <tr>\n",
       "      <th>0</th>\n",
       "      <td>1</td>\n",
       "      <td>0</td>\n",
       "      <td>3</td>\n",
       "      <td>Braund, Mr. Owen Harris</td>\n",
       "      <td>male</td>\n",
       "      <td>22.0</td>\n",
       "      <td>1</td>\n",
       "      <td>0</td>\n",
       "      <td>A/5 21171</td>\n",
       "      <td>7.2500</td>\n",
       "      <td>5</td>\n",
       "      <td>S</td>\n",
       "    </tr>\n",
       "    <tr>\n",
       "      <th>1</th>\n",
       "      <td>2</td>\n",
       "      <td>1</td>\n",
       "      <td>1</td>\n",
       "      <td>Cumings, Mrs. John Bradley (Florence Briggs Th...</td>\n",
       "      <td>female</td>\n",
       "      <td>38.0</td>\n",
       "      <td>1</td>\n",
       "      <td>0</td>\n",
       "      <td>PC 17599</td>\n",
       "      <td>71.2833</td>\n",
       "      <td>C85</td>\n",
       "      <td>C</td>\n",
       "    </tr>\n",
       "    <tr>\n",
       "      <th>2</th>\n",
       "      <td>3</td>\n",
       "      <td>1</td>\n",
       "      <td>3</td>\n",
       "      <td>Heikkinen, Miss. Laina</td>\n",
       "      <td>female</td>\n",
       "      <td>26.0</td>\n",
       "      <td>0</td>\n",
       "      <td>0</td>\n",
       "      <td>STON/O2. 3101282</td>\n",
       "      <td>7.9250</td>\n",
       "      <td>5</td>\n",
       "      <td>S</td>\n",
       "    </tr>\n",
       "    <tr>\n",
       "      <th>3</th>\n",
       "      <td>4</td>\n",
       "      <td>1</td>\n",
       "      <td>1</td>\n",
       "      <td>Futrelle, Mrs. Jacques Heath (Lily May Peel)</td>\n",
       "      <td>female</td>\n",
       "      <td>35.0</td>\n",
       "      <td>1</td>\n",
       "      <td>0</td>\n",
       "      <td>113803</td>\n",
       "      <td>53.1000</td>\n",
       "      <td>C123</td>\n",
       "      <td>S</td>\n",
       "    </tr>\n",
       "    <tr>\n",
       "      <th>4</th>\n",
       "      <td>5</td>\n",
       "      <td>0</td>\n",
       "      <td>3</td>\n",
       "      <td>Allen, Mr. William Henry</td>\n",
       "      <td>male</td>\n",
       "      <td>35.0</td>\n",
       "      <td>0</td>\n",
       "      <td>0</td>\n",
       "      <td>373450</td>\n",
       "      <td>8.0500</td>\n",
       "      <td>5</td>\n",
       "      <td>S</td>\n",
       "    </tr>\n",
       "  </tbody>\n",
       "</table>\n",
       "</div>"
      ],
      "text/plain": [
       "   PassengerId  Survived  Pclass  \\\n",
       "0            1         0       3   \n",
       "1            2         1       1   \n",
       "2            3         1       3   \n",
       "3            4         1       1   \n",
       "4            5         0       3   \n",
       "\n",
       "                                                Name     Sex   Age  SibSp  \\\n",
       "0                            Braund, Mr. Owen Harris    male  22.0      1   \n",
       "1  Cumings, Mrs. John Bradley (Florence Briggs Th...  female  38.0      1   \n",
       "2                             Heikkinen, Miss. Laina  female  26.0      0   \n",
       "3       Futrelle, Mrs. Jacques Heath (Lily May Peel)  female  35.0      1   \n",
       "4                           Allen, Mr. William Henry    male  35.0      0   \n",
       "\n",
       "   Parch            Ticket     Fare Cabin Embarked  \n",
       "0      0         A/5 21171   7.2500     5        S  \n",
       "1      0          PC 17599  71.2833   C85        C  \n",
       "2      0  STON/O2. 3101282   7.9250     5        S  \n",
       "3      0            113803  53.1000  C123        S  \n",
       "4      0            373450   8.0500     5        S  "
      ]
     },
     "execution_count": 6,
     "metadata": {},
     "output_type": "execute_result"
    }
   ],
   "source": [
    "data = data.fillna(5)\n",
    "data.head()"
   ]
  },
  {
   "cell_type": "code",
   "execution_count": 7,
   "metadata": {},
   "outputs": [],
   "source": [
    "# уберем непонятный для нас параметр, чтобы он не помешал в будущем\n",
    "data.drop(['Name','Sex','Ticket','Embarked','Cabin','PassengerId'], axis = 1, inplace = True)"
   ]
  },
  {
   "cell_type": "code",
   "execution_count": 8,
   "metadata": {},
   "outputs": [
    {
     "data": {
      "text/html": [
       "<div>\n",
       "<style scoped>\n",
       "    .dataframe tbody tr th:only-of-type {\n",
       "        vertical-align: middle;\n",
       "    }\n",
       "\n",
       "    .dataframe tbody tr th {\n",
       "        vertical-align: top;\n",
       "    }\n",
       "\n",
       "    .dataframe thead th {\n",
       "        text-align: right;\n",
       "    }\n",
       "</style>\n",
       "<table border=\"1\" class=\"dataframe\">\n",
       "  <thead>\n",
       "    <tr style=\"text-align: right;\">\n",
       "      <th></th>\n",
       "      <th>Survived</th>\n",
       "      <th>Pclass</th>\n",
       "      <th>Age</th>\n",
       "      <th>SibSp</th>\n",
       "      <th>Parch</th>\n",
       "      <th>Fare</th>\n",
       "    </tr>\n",
       "  </thead>\n",
       "  <tbody>\n",
       "    <tr>\n",
       "      <th>0</th>\n",
       "      <td>0</td>\n",
       "      <td>3</td>\n",
       "      <td>22.0</td>\n",
       "      <td>1</td>\n",
       "      <td>0</td>\n",
       "      <td>7.2500</td>\n",
       "    </tr>\n",
       "    <tr>\n",
       "      <th>1</th>\n",
       "      <td>1</td>\n",
       "      <td>1</td>\n",
       "      <td>38.0</td>\n",
       "      <td>1</td>\n",
       "      <td>0</td>\n",
       "      <td>71.2833</td>\n",
       "    </tr>\n",
       "    <tr>\n",
       "      <th>2</th>\n",
       "      <td>1</td>\n",
       "      <td>3</td>\n",
       "      <td>26.0</td>\n",
       "      <td>0</td>\n",
       "      <td>0</td>\n",
       "      <td>7.9250</td>\n",
       "    </tr>\n",
       "    <tr>\n",
       "      <th>3</th>\n",
       "      <td>1</td>\n",
       "      <td>1</td>\n",
       "      <td>35.0</td>\n",
       "      <td>1</td>\n",
       "      <td>0</td>\n",
       "      <td>53.1000</td>\n",
       "    </tr>\n",
       "    <tr>\n",
       "      <th>4</th>\n",
       "      <td>0</td>\n",
       "      <td>3</td>\n",
       "      <td>35.0</td>\n",
       "      <td>0</td>\n",
       "      <td>0</td>\n",
       "      <td>8.0500</td>\n",
       "    </tr>\n",
       "    <tr>\n",
       "      <th>...</th>\n",
       "      <td>...</td>\n",
       "      <td>...</td>\n",
       "      <td>...</td>\n",
       "      <td>...</td>\n",
       "      <td>...</td>\n",
       "      <td>...</td>\n",
       "    </tr>\n",
       "    <tr>\n",
       "      <th>886</th>\n",
       "      <td>0</td>\n",
       "      <td>2</td>\n",
       "      <td>27.0</td>\n",
       "      <td>0</td>\n",
       "      <td>0</td>\n",
       "      <td>13.0000</td>\n",
       "    </tr>\n",
       "    <tr>\n",
       "      <th>887</th>\n",
       "      <td>1</td>\n",
       "      <td>1</td>\n",
       "      <td>19.0</td>\n",
       "      <td>0</td>\n",
       "      <td>0</td>\n",
       "      <td>30.0000</td>\n",
       "    </tr>\n",
       "    <tr>\n",
       "      <th>888</th>\n",
       "      <td>0</td>\n",
       "      <td>3</td>\n",
       "      <td>5.0</td>\n",
       "      <td>1</td>\n",
       "      <td>2</td>\n",
       "      <td>23.4500</td>\n",
       "    </tr>\n",
       "    <tr>\n",
       "      <th>889</th>\n",
       "      <td>1</td>\n",
       "      <td>1</td>\n",
       "      <td>26.0</td>\n",
       "      <td>0</td>\n",
       "      <td>0</td>\n",
       "      <td>30.0000</td>\n",
       "    </tr>\n",
       "    <tr>\n",
       "      <th>890</th>\n",
       "      <td>0</td>\n",
       "      <td>3</td>\n",
       "      <td>32.0</td>\n",
       "      <td>0</td>\n",
       "      <td>0</td>\n",
       "      <td>7.7500</td>\n",
       "    </tr>\n",
       "  </tbody>\n",
       "</table>\n",
       "<p>891 rows × 6 columns</p>\n",
       "</div>"
      ],
      "text/plain": [
       "     Survived  Pclass   Age  SibSp  Parch     Fare\n",
       "0           0       3  22.0      1      0   7.2500\n",
       "1           1       1  38.0      1      0  71.2833\n",
       "2           1       3  26.0      0      0   7.9250\n",
       "3           1       1  35.0      1      0  53.1000\n",
       "4           0       3  35.0      0      0   8.0500\n",
       "..        ...     ...   ...    ...    ...      ...\n",
       "886         0       2  27.0      0      0  13.0000\n",
       "887         1       1  19.0      0      0  30.0000\n",
       "888         0       3   5.0      1      2  23.4500\n",
       "889         1       1  26.0      0      0  30.0000\n",
       "890         0       3  32.0      0      0   7.7500\n",
       "\n",
       "[891 rows x 6 columns]"
      ]
     },
     "execution_count": 8,
     "metadata": {},
     "output_type": "execute_result"
    }
   ],
   "source": [
    "data"
   ]
  },
  {
   "cell_type": "code",
   "execution_count": 9,
   "metadata": {},
   "outputs": [
    {
     "name": "stdout",
     "output_type": "stream",
     "text": [
      "Входные данные:\n",
      "\n",
      "    Survived  Pclass   Age  SibSp  Parch\n",
      "0       0.0     3.0  22.0    1.0    0.0\n",
      "1       1.0     1.0  38.0    1.0    0.0\n",
      "2       1.0     3.0  26.0    0.0    0.0\n",
      "3       1.0     1.0  35.0    1.0    0.0\n",
      "4       0.0     3.0  35.0    0.0    0.0 \n",
      "\n",
      "Выходные данные:\n",
      "\n",
      "       Fare\n",
      "0   7.2500\n",
      "1  71.2833\n",
      "2   7.9250\n",
      "3  53.1000\n",
      "4   8.0500\n"
     ]
    }
   ],
   "source": [
    "parts = np.split(data, [5,6], axis=1)\n",
    "X = parts[0]\n",
    "Y = parts[1]\n",
    "print('Входные данные:\\n\\n', X.head(), '\\n\\nВыходные данные:\\n\\n', Y.head())"
   ]
  },
  {
   "cell_type": "markdown",
   "metadata": {},
   "source": [
    "## Разделение выборки"
   ]
  },
  {
   "cell_type": "code",
   "execution_count": 10,
   "metadata": {},
   "outputs": [],
   "source": [
    " X_train,  X_test,  Y_train,  Y_test = train_test_split(X,  Y, test_size=0.05)"
   ]
  },
  {
   "cell_type": "code",
   "execution_count": 11,
   "metadata": {},
   "outputs": [
    {
     "name": "stdout",
     "output_type": "stream",
     "text": [
      "Входные параметры обучающей выборки:\n",
      "\n",
      "      Survived  Pclass   Age  SibSp  Parch\n",
      "255       1.0     3.0  29.0    0.0    2.0\n",
      "370       1.0     1.0  25.0    1.0    0.0\n",
      "830       1.0     3.0  15.0    1.0    0.0\n",
      "371       0.0     3.0  18.0    1.0    0.0\n",
      "137       0.0     1.0  37.0    1.0    0.0 \n",
      "\n",
      "Входные параметры тестовой выборки:\n",
      "\n",
      "      Survived  Pclass   Age  SibSp  Parch\n",
      "258       1.0     1.0  35.0    0.0    0.0\n",
      "833       0.0     3.0  23.0    0.0    0.0\n",
      "397       0.0     2.0  46.0    0.0    0.0\n",
      "165       1.0     3.0   9.0    0.0    2.0\n",
      "186       1.0     3.0   5.0    1.0    0.0 \n",
      "\n",
      "Выходные параметры обучающей выборки:\n",
      "\n",
      "         Fare\n",
      "255  15.2458\n",
      "370  55.4417\n",
      "830  14.4542\n",
      "371   6.4958\n",
      "137  53.1000 \n",
      "\n",
      "Выходные параметры тестовой выборки:\n",
      "\n",
      "          Fare\n",
      "258  512.3292\n",
      "833    7.8542\n",
      "397   26.0000\n",
      "165   20.5250\n",
      "186   15.5000\n"
     ]
    }
   ],
   "source": [
    "print('Входные параметры обучающей выборки:\\n\\n',X_train.head(), \\\n",
    "      '\\n\\nВходные параметры тестовой выборки:\\n\\n', X_test.head(), \\\n",
    "      '\\n\\nВыходные параметры обучающей выборки:\\n\\n', Y_train.head(), \\\n",
    "      '\\n\\nВыходные параметры тестовой выборки:\\n\\n', Y_test.head())"
   ]
  },
  {
   "cell_type": "code",
   "execution_count": 12,
   "metadata": {},
   "outputs": [
    {
     "name": "stdout",
     "output_type": "stream",
     "text": [
      "(846, 5)\n",
      "(45, 5)\n",
      "(846, 1)\n",
      "(45, 1)\n"
     ]
    }
   ],
   "source": [
    "# Проверим правильность разделения выборки на тестовую и обучающую. Посмотрим на размеры матриц.\n",
    "print(X_train.shape)\n",
    "print(X_test.shape)\n",
    "print(Y_train.shape)\n",
    "print(Y_test.shape)"
   ]
  },
  {
   "cell_type": "markdown",
   "metadata": {},
   "source": [
    "# Модель ближайших соседей для произвольного гиперпараметра K"
   ]
  },
  {
   "cell_type": "code",
   "execution_count": 13,
   "metadata": {},
   "outputs": [],
   "source": [
    "from sklearn.neighbors import KNeighborsRegressor"
   ]
  },
  {
   "cell_type": "code",
   "execution_count": 14,
   "metadata": {},
   "outputs": [
    {
     "name": "stdout",
     "output_type": "stream",
     "text": [
      "Пример модели:\n",
      "\n",
      " KNeighborsRegressor(n_neighbors=10)\n"
     ]
    }
   ],
   "source": [
    "# Решение задачи регрессии методом 2, 5 и 10 ближайших соседей\n",
    "Regressor_2NN = KNeighborsRegressor(n_neighbors = 2) \n",
    "Regressor_5NN = KNeighborsRegressor(n_neighbors = 5)\n",
    "Regressor_10NN = KNeighborsRegressor(n_neighbors = 10) \n",
    "print('Пример модели:\\n\\n', Regressor_10NN)"
   ]
  },
  {
   "cell_type": "code",
   "execution_count": 15,
   "metadata": {},
   "outputs": [
    {
     "name": "stdout",
     "output_type": "stream",
     "text": [
      "Пример предсказанных значений:\n",
      "\n",
      " [[102.67625]\n",
      " [  8.4325 ]\n",
      " [ 32.015  ]\n",
      " [ 33.92958]\n",
      " [ 15.44542]] \n",
      " ...\n"
     ]
    }
   ],
   "source": [
    "Regressor_2NN.fit(X_train, Y_train)\n",
    "Regressor_5NN.fit(X_train, Y_train)\n",
    "Regressor_10NN.fit(X_train, Y_train)\n",
    "target_2NN = Regressor_2NN.predict(X_test)\n",
    "target_5NN = Regressor_5NN.predict(X_test)\n",
    "target_10NN = Regressor_10NN.predict(X_test)\n",
    "print('Пример предсказанных значений:\\n\\n', target_10NN[:5], '\\n ...')"
   ]
  },
  {
   "cell_type": "markdown",
   "metadata": {},
   "source": [
    "## Оценка качества регрессии (Метрики качества)"
   ]
  },
  {
   "cell_type": "code",
   "execution_count": 16,
   "metadata": {},
   "outputs": [],
   "source": [
    " from sklearn.metrics import mean_absolute_error, mean_squared_error, median_absolute_error, r2_score"
   ]
  },
  {
   "cell_type": "code",
   "execution_count": 17,
   "metadata": {},
   "outputs": [
    {
     "name": "stdout",
     "output_type": "stream",
     "text": [
      "Средняя абсолютная ошибка для 2 ближайших соседей: 22.61249777777778\n",
      "Средняя абсолютная ошибка для 5 ближайших соседей: 20.13890488888889\n",
      "Средняя абсолютная ошибка для 10 ближайших соседей: 20.771750444444447\n"
     ]
    }
   ],
   "source": [
    "# Оценка средней абсолютной ошибки\n",
    "print('Средняя абсолютная ошибка для 2 ближайших соседей:',mean_absolute_error(Y_test,\n",
    "target_2NN))\n",
    "print('Средняя абсолютная ошибка для 5 ближайших соседей:',mean_absolute_error(Y_test,\n",
    "target_5NN))\n",
    "print('Средняя абсолютная ошибка для 10 ближайших соседей:',mean_absolute_error(Y_test,\n",
    "target_10NN))"
   ]
  },
  {
   "cell_type": "code",
   "execution_count": 18,
   "metadata": {},
   "outputs": [
    {
     "name": "stdout",
     "output_type": "stream",
     "text": [
      "Средняя квадратичная ошибка для 2 ближайших соседей: 4836.100576518888\n",
      "Средняя квадратичная ошибка для 5 ближайших соседей: 3343.1504627551476\n",
      "Средняя квадратичная ошибка для 10 ближайших соседей: 4051.745965581446\n"
     ]
    }
   ],
   "source": [
    "# Оценка средней квадратичной ошибки\n",
    "print('Средняя квадратичная ошибка для 2 ближайших соседей:',mean_squared_error(Y_test,\n",
    "target_2NN))\n",
    "print('Средняя квадратичная ошибка для 5 ближайших соседей:',mean_squared_error(Y_test,\n",
    "target_5NN))\n",
    "print('Средняя квадратичная ошибка для 10 ближайших соседей:',mean_squared_error(Y_test\n",
    ", target_10NN))"
   ]
  },
  {
   "cell_type": "code",
   "execution_count": 19,
   "metadata": {},
   "outputs": [
    {
     "name": "stdout",
     "output_type": "stream",
     "text": [
      "Коэффициент детерминации для 2 ближайших соседей: 0.17595570377997138\n",
      "Коэффициент детерминации для 5 ближайших соседей: 0.43034599329574785\n",
      "Коэффициент детерминации для 10 ближайших соседей: 0.3096053111713314\n"
     ]
    }
   ],
   "source": [
    "# Оценка коэффициента детерминации\n",
    "\n",
    "print('Коэффициент детерминации для 2 ближайших соседей:',r2_score(Y_test, target_2NN))\n",
    "print('Коэффициент детерминации для 5 ближайших соседей:',r2_score(Y_test, target_5NN))\n",
    "print('Коэффициент детерминации для 10 ближайших соседей:',r2_score(Y_test, target_10NN\n",
    "))"
   ]
  },
  {
   "cell_type": "code",
   "execution_count": 20,
   "metadata": {},
   "outputs": [],
   "source": [
    "## Grid Search (решетчатый поиск)"
   ]
  },
  {
   "cell_type": "code",
   "execution_count": 21,
   "metadata": {},
   "outputs": [],
   "source": [
    "from sklearn.model_selection import GridSearchCV, RandomizedSearchCV"
   ]
  },
  {
   "cell_type": "markdown",
   "metadata": {},
   "source": [
    "## Подбор гиперпараметров"
   ]
  },
  {
   "cell_type": "markdown",
   "metadata": {},
   "source": [
    "## GridSearch через среднюю квадратичную ошибку\n",
    "Рассмотрим все количества ближайших соседей от 1 до 100, чтобы найти лучший результат. Возьмем 10 фолдов."
   ]
  },
  {
   "cell_type": "code",
   "execution_count": 22,
   "metadata": {},
   "outputs": [
    {
     "data": {
      "text/plain": [
       "GridSearchCV(cv=10, estimator=KNeighborsRegressor(),\n",
       "             param_grid=[{'n_neighbors': array([  1,   2,   3,   4,   5,   6,   7,   8,   9,  10,  11,  12,  13,\n",
       "        14,  15,  16,  17,  18,  19,  20,  21,  22,  23,  24,  25,  26,\n",
       "        27,  28,  29,  30,  31,  32,  33,  34,  35,  36,  37,  38,  39,\n",
       "        40,  41,  42,  43,  44,  45,  46,  47,  48,  49,  50,  51,  52,\n",
       "        53,  54,  55,  56,  57,  58,  59,  60,  61,  62,  63,  64,  65,\n",
       "        66,  67,  68,  69,  70,  71,  72,  73,  74,  75,  76,  77,  78,\n",
       "        79,  80,  81,  82,  83,  84,  85,  86,  87,  88,  89,  90,  91,\n",
       "        92,  93,  94,  95,  96,  97,  98,  99, 100])}],\n",
       "             scoring='neg_mean_squared_error')"
      ]
     },
     "execution_count": 22,
     "metadata": {},
     "output_type": "execute_result"
    }
   ],
   "source": [
    "from sklearn.model_selection import GridSearchCV\n",
    "n_range = np.array(range(1, 101, 1))\n",
    "tuned_parameters = [{'n_neighbors': n_range}]\n",
    "gs = GridSearchCV(KNeighborsRegressor(), tuned_parameters, cv=10, scoring='neg_mean_squared_error')\n",
    "gs.fit(X_train, Y_train)"
   ]
  },
  {
   "cell_type": "code",
   "execution_count": 23,
   "metadata": {},
   "outputs": [
    {
     "name": "stdout",
     "output_type": "stream",
     "text": [
      "Лучшая модель:\n",
      "\n",
      " KNeighborsRegressor(n_neighbors=9)\n",
      "\n",
      "Лучшее число ближайших соседей:\n",
      "\n",
      " {'n_neighbors': 9}\n",
      "\n",
      "Лучшее значение средней квадратичной ошибки:\n",
      "\n",
      " -1654.3862498911749\n"
     ]
    }
   ],
   "source": [
    "print('Лучшая модель:\\n\\n', gs.best_estimator_)\n",
    "print('\\nЛучшее число ближайших соседей:\\n\\n',gs.best_params_) \n",
    "print('\\nЛучшее значение средней квадратичной ошибки:\\n\\n',gs.best_score_)"
   ]
  },
  {
   "cell_type": "code",
   "execution_count": 24,
   "metadata": {},
   "outputs": [
    {
     "name": "stdout",
     "output_type": "stream",
     "text": [
      "Изменение качества тестовой выборки в зависимости от кол-ва соседей:\n",
      "\n"
     ]
    },
    {
     "data": {
      "text/plain": [
       "[<matplotlib.lines.Line2D at 0x7fc12e2e4910>]"
      ]
     },
     "execution_count": 24,
     "metadata": {},
     "output_type": "execute_result"
    },
    {
     "data": {
      "image/png": "[encoded data removed]",
      "text/plain": [
       "<Figure size 432x288 with 1 Axes>"
      ]
     },
     "metadata": {},
     "output_type": "display_data"
    }
   ],
   "source": [
    " print('Изменение качества тестовой выборки в зависимости от кол-ва соседей:\\n') \n",
    "plt.plot(n_range, gs.cv_results_['mean_test_score'])"
   ]
  },
  {
   "cell_type": "markdown",
   "metadata": {},
   "source": [
    "## GridSearch через коэффициент детерминации"
   ]
  },
  {
   "cell_type": "code",
   "execution_count": 25,
   "metadata": {},
   "outputs": [
    {
     "name": "stdout",
     "output_type": "stream",
     "text": [
      "Лучшая модель:\n",
      "\n",
      " KNeighborsRegressor(n_neighbors=10)\n",
      "\n",
      "Лучшее число ближайших соседей:\n",
      "\n",
      " {'n_neighbors': 10}\n",
      "\n",
      "Лучшее значение коэффициента детерминации:\n",
      "\n",
      " 0.3016479999134207\n",
      "\n",
      "Изменение качества тестовой выборки в зависимости от кол-ва соседей:\n",
      "\n"
     ]
    },
    {
     "data": {
      "text/plain": [
       "[<matplotlib.lines.Line2D at 0x7fc12e0e6430>]"
      ]
     },
     "execution_count": 25,
     "metadata": {},
     "output_type": "execute_result"
    },
    {
     "data": {
      "image/png": "[encoded data removed]",
      "text/plain": [
       "<Figure size 432x288 with 1 Axes>"
      ]
     },
     "metadata": {},
     "output_type": "display_data"
    }
   ],
   "source": [
    "gs_det = GridSearchCV(KNeighborsRegressor(), tuned_parameters, cv=10, scoring='r2') \n",
    "gs_det.fit(X_train, Y_train)\n",
    "print('Лучшая модель:\\n\\n', gs_det.best_estimator_)\n",
    "print('\\nЛучшее число ближайших соседей:\\n\\n',gs_det.best_params_)\n",
    "print('\\nЛучшее значение коэффициента детерминации:\\n\\n',gs_det.best_score_)\n",
    "print('\\nИзменение качества тестовой выборки в зависимости от кол-ва соседей:\\n') \n",
    "plt.plot(n_range, gs_det.cv_results_['mean_test_score'])"
   ]
  },
  {
   "cell_type": "markdown",
   "metadata": {},
   "source": [
    "## Кросс-валидация"
   ]
  },
  {
   "cell_type": "code",
   "execution_count": 26,
   "metadata": {},
   "outputs": [
    {
     "name": "stdout",
     "output_type": "stream",
     "text": [
      "Пример значений коэф. детерминации для 5 фолдов для метода 10 ближайших соседей: \n",
      " [0.33837682 0.28393262 0.12157948 0.30483026 0.34342333] \n",
      "\n",
      "\n",
      "Усредненное значение коэффициента детерминации для:\n",
      "\n",
      "- 2 ближайших соседей: 0.24128219838125292 \n",
      "\n",
      "- 5 ближайших соседей: 0.2325852340360818 \n",
      "\n",
      "- 10 ближайших соседей: 0.27842850190835017 \n",
      "\n",
      "- 50 ближайших соседей: 0.1286895036017584 \n",
      "\n",
      "- 100 ближайших соседей: 0.05722091440517334 \n",
      "\n"
     ]
    }
   ],
   "source": [
    "from sklearn.model_selection import cross_val_score\n",
    "scores_2NN = cross_val_score(KNeighborsRegressor(n_neighbors = 2), X, Y, cv=5, scoring= 'r2')\n",
    "scores_5NN = cross_val_score(KNeighborsRegressor(n_neighbors = 5), X, Y, cv=5, scoring= 'r2')\n",
    "scores_10NN = cross_val_score(KNeighborsRegressor(n_neighbors = 10), X, Y, cv=5, scoring = 'r2')\n",
    "scores_50NN = cross_val_score(KNeighborsRegressor(n_neighbors = 50), X, Y, cv=5, scoring = 'r2')\n",
    "scores_100NN = cross_val_score(KNeighborsRegressor(n_neighbors = 100), X, Y, cv=5, scoring = 'r2')\n",
    "print('Пример значений коэф. детерминации для 5 фолдов для метода 10 ближайших соседей: \\n', scores_10NN, '\\n\\n')\n",
    "print('Усредненное значение коэффициента детерминации для:\\n') \n",
    "print('- 2 ближайших соседей:', np.mean(scores_2NN), '\\n') \n",
    "print('- 5 ближайших соседей:', np.mean(scores_5NN), '\\n') \n",
    "print('- 10 ближайших соседей:', np.mean(scores_10NN), '\\n') \n",
    "print('- 50 ближайших соседей:', np.mean(scores_50NN), '\\n') \n",
    "print('- 100 ближайших соседей:', np.mean(scores_100NN), '\\n')"
   ]
  }
 ],
 "metadata": {
  "kernelspec": {
   "display_name": "Python 3",
   "language": "python",
   "name": "python3"
  },
  "language_info": {
   "codemirror_mode": {
    "name": "ipython",
    "version": 3
   },
   "file_extension": ".py",
   "mimetype": "text/x-python",
   "name": "python",
   "nbconvert_exporter": "python",
   "pygments_lexer": "ipython3",
   "version": "3.7.1"
  }
 },
 "nbformat": 4,
 "nbformat_minor": 4
}
